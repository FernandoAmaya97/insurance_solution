class Patient:
    def __init__(self, name, age, sex, bmi, num_of_children, smoker):
        self.name = name
        self.age = age
        self.sex =  sex
        self.bmi = bmi
        self.num_of_children = num_of_children
        self.smoker = smoker

    def estimated_insurance_cost(self):
        estimated_cost = 250 * self.age - 128 * self.sex + 370 * self.bmi + 425 * self.num_of_children + 24000 * self.smoker - 12500
        print(f'{self.name}´s estimated insurance cost is {estimated_cost} dollars.')

    def update_age(self, new_age):
        self.age = new_age
        print(f'{self.name} is now {new_age} years old.')
        


patient1 = Patient("Jhonn Doe", 25,1,22.2,0,0)
print(patient1.name)


patient1.estimated_insurance_cost()


patient1.update_age(28)



