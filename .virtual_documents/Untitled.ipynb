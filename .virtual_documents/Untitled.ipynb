class Patient:
    def __init__(self, name, age, sex, bmi, num_of_children, smoker):
        self.name = name
        self.age = age
        self.sex =  sex
        self.bmi = bmi
        self.num_of_children = num_of_children
        self.smoker = smoker
        


patient1 = Patient("Jhonn Doe", 25,1,22.2,0,0)
print(patient1.name)



