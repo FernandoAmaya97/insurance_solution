class Patient:
    def __init__(self, name, age, sex, bmi, num_of_children, smoker):
        self.name = name
        self.age = age
        self.sex =  sex
        self.bmi = bmi
        self.num_of_children = num_of_children
        self.smoker = smoker

    def estimated_insurance_cost(self):
        estimated_cost = 250 * self.age - 128 * self.sex + 370 * self.bmi + 425 * self.num_of_children + 24000 * self.smoker - 12500
        print(f'{self.name}´s estimated insurance cost is {estimated_cost} dollars.')

    def update_age(self, new_age):
        self.age = new_age
        print(f'{self.name} is now {new_age} years old.')

    def update_num_children(self, new_num_children):
        self.num_of_children = new_num_children
        if self.num_of_children ==1:
            print(f'{self.name} has {new_num_children} child.')
        else:
            print(f'{self.name} has {new_num_children} children.')
        


patient1 = Patient("Jhonn Doe", 25,1,22.2,0,0)
print(patient1.name)


patient1.estimated_insurance_cost()


patient1.update_age(28)


patient1.estimated_insurance_cost()


patient1.update_num_children(2)
patient1.estimated_insurance_cost()



