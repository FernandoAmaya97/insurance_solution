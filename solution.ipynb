{
 "cells": [
  {
   "cell_type": "code",
   "execution_count": 9,
   "id": "b732d79a-4c41-4a1c-90c5-e3f5321411ac",
   "metadata": {},
   "outputs": [],
   "source": [
    "class Patient:\n",
    "    def __init__(self, name, age, sex, bmi, num_of_children, smoker):\n",
    "        self.name = name\n",
    "        self.age = age\n",
    "        self.sex =  sex\n",
    "        self.bmi = bmi\n",
    "        self.num_of_children = num_of_children\n",
    "        self.smoker = smoker\n",
    "\n",
    "    def estimated_insurance_cost(self):\n",
    "        estimated_cost = 250 * self.age - 128 * self.sex + 370 * self.bmi + 425 * self.num_of_children + 24000 * self.smoker - 12500\n",
    "        print(f'{self.name}´s estimated insurance cost is {estimated_cost} dollars.')"
   ]
  },
  {
   "cell_type": "code",
   "execution_count": 11,
   "id": "86394191-ebf9-4157-8e8f-e675650d291e",
   "metadata": {},
   "outputs": [
    {
     "name": "stdout",
     "output_type": "stream",
     "text": [
      "Jhonn Doe\n"
     ]
    }
   ],
   "source": [
    "patient1 = Patient(\"Jhonn Doe\", 25,1,22.2,0,0)\n",
    "print(patient1.name)"
   ]
  },
  {
   "cell_type": "code",
   "execution_count": 12,
   "id": "a5808629-886b-4505-ba86-cb54e33650e1",
   "metadata": {},
   "outputs": [
    {
     "name": "stdout",
     "output_type": "stream",
     "text": [
      "Jhonn Doe´s estimated insurance cost is 1836.0 dollars.\n"
     ]
    }
   ],
   "source": [
    "patient1.estimated_insurance_cost()"
   ]
  }
 ],
 "metadata": {
  "kernelspec": {
   "display_name": "Python 3 (ipykernel)",
   "language": "python",
   "name": "python3"
  },
  "language_info": {
   "codemirror_mode": {
    "name": "ipython",
    "version": 3
   },
   "file_extension": ".py",
   "mimetype": "text/x-python",
   "name": "python",
   "nbconvert_exporter": "python",
   "pygments_lexer": "ipython3",
   "version": "3.9.12"
  }
 },
 "nbformat": 4,
 "nbformat_minor": 5
}
