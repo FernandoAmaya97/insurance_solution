{
 "cells": [
  {
   "cell_type": "code",
   "execution_count": 58,
   "id": "b732d79a-4c41-4a1c-90c5-e3f5321411ac",
   "metadata": {},
   "outputs": [],
   "source": [
    "class Patient:\n",
    "    def __init__(self, name, age, sex, bmi, num_of_children, smoker):\n",
    "        self.name = name\n",
    "        self.age = age\n",
    "        self.sex =  sex\n",
    "        self.bmi = bmi\n",
    "        self.num_of_children = num_of_children\n",
    "        self.smoker = smoker\n",
    "\n",
    "    def estimated_insurance_cost(self):\n",
    "        estimated_cost = 250 * self.age - 128 * self.sex + 370 * self.bmi + 425 * self.num_of_children + 24000 * self.smoker - 12500\n",
    "        print(f'{self.name}´s estimated insurance cost is {estimated_cost} dollars.')\n",
    "\n",
    "    def update_age(self, new_age):\n",
    "        self.age = new_age\n",
    "        print(f'{self.name} is now {new_age} years old.')\n",
    "\n",
    "    def update_num_children(self, new_num_children):\n",
    "        self.num_of_children = new_num_children\n",
    "        if self.num_of_children ==1:\n",
    "            print(f'{self.name} has {new_num_children} child.')\n",
    "        else:\n",
    "            print(f'{self.name} has {new_num_children} children.')\n",
    "\n",
    "    def patient_profile(self):\n",
    "        patient_information = {}\n",
    "        patient_information[\"Name\"] = self.name\n",
    "        patient_information[\"Age\"] = self.age\n",
    "        patient_information[\"Sex\"] = self.sex\n",
    "        patient_information[\"BMI\"] = self.bmi\n",
    "        patient_information[\"Number of children\"] = self.num_of_children\n",
    "        patient_information[\"Smoker\"] = self.smoker\n",
    "        return patient_information"
   ]
  },
  {
   "cell_type": "code",
   "execution_count": 59,
   "id": "86394191-ebf9-4157-8e8f-e675650d291e",
   "metadata": {},
   "outputs": [
    {
     "name": "stdout",
     "output_type": "stream",
     "text": [
      "Jhonn Doe\n"
     ]
    }
   ],
   "source": [
    "patient1 = Patient(\"Jhonn Doe\", 25,1,22.2,0,0)\n",
    "print(patient1.name)"
   ]
  },
  {
   "cell_type": "code",
   "execution_count": 60,
   "id": "a5808629-886b-4505-ba86-cb54e33650e1",
   "metadata": {},
   "outputs": [
    {
     "name": "stdout",
     "output_type": "stream",
     "text": [
      "Jhonn Doe´s estimated insurance cost is 1836.0 dollars.\n"
     ]
    }
   ],
   "source": [
    "patient1.estimated_insurance_cost()"
   ]
  },
  {
   "cell_type": "code",
   "execution_count": 61,
   "id": "c0a4027d-d936-482c-9c32-cf259fb03e85",
   "metadata": {},
   "outputs": [
    {
     "name": "stdout",
     "output_type": "stream",
     "text": [
      "Jhonn Doe is now 28 years old.\n"
     ]
    }
   ],
   "source": [
    "patient1.update_age(28)"
   ]
  },
  {
   "cell_type": "code",
   "execution_count": 62,
   "id": "77ad2b2e-a550-4d61-a541-60de0c388a33",
   "metadata": {},
   "outputs": [
    {
     "name": "stdout",
     "output_type": "stream",
     "text": [
      "Jhonn Doe´s estimated insurance cost is 2586.0 dollars.\n"
     ]
    }
   ],
   "source": [
    "patient1.estimated_insurance_cost()"
   ]
  },
  {
   "cell_type": "code",
   "execution_count": 63,
   "id": "4c3cfc45-8a01-4729-8116-b9a485f23b16",
   "metadata": {},
   "outputs": [
    {
     "name": "stdout",
     "output_type": "stream",
     "text": [
      "Jhonn Doe has 2 children.\n",
      "Jhonn Doe´s estimated insurance cost is 3436.0 dollars.\n"
     ]
    }
   ],
   "source": [
    "patient1.update_num_children(2)\n",
    "patient1.estimated_insurance_cost()"
   ]
  },
  {
   "cell_type": "code",
   "execution_count": 64,
   "id": "d0031fe5-1102-40fd-b4a5-8ab1111cd45f",
   "metadata": {},
   "outputs": [
    {
     "name": "stdout",
     "output_type": "stream",
     "text": [
      "{'Name': 'Jhonn Doe', 'Age': 28, 'Sex': 1, 'BMI': 22.2, 'Number of children': 2, 'Smoker': 0}\n"
     ]
    }
   ],
   "source": [
    "print(patient1.patient_profile())"
   ]
  }
 ],
 "metadata": {
  "kernelspec": {
   "display_name": "Python 3 (ipykernel)",
   "language": "python",
   "name": "python3"
  },
  "language_info": {
   "codemirror_mode": {
    "name": "ipython",
    "version": 3
   },
   "file_extension": ".py",
   "mimetype": "text/x-python",
   "name": "python",
   "nbconvert_exporter": "python",
   "pygments_lexer": "ipython3",
   "version": "3.9.12"
  }
 },
 "nbformat": 4,
 "nbformat_minor": 5
}
