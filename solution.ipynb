{
 "cells": [
  {
   "cell_type": "code",
   "execution_count": 22,
   "id": "b732d79a-4c41-4a1c-90c5-e3f5321411ac",
   "metadata": {},
   "outputs": [],
   "source": [
    "class Patient:\n",
    "    def __init__(self, name, age, sex, bmi, num_of_children, smoker):\n",
    "        self.name = name\n",
    "        self.age = age\n",
    "        self.sex =  sex\n",
    "        self.bmi = bmi\n",
    "        self.num_of_children = num_of_children\n",
    "        self.smoker = smoker\n",
    "\n",
    "    def estimated_insurance_cost(self):\n",
    "        estimated_cost = 250 * self.age - 128 * self.sex + 370 * self.bmi + 425 * self.num_of_children + 24000 * self.smoker - 12500\n",
    "        print(f'{self.name}´s estimated insurance cost is {estimated_cost} dollars.')\n",
    "\n",
    "    def update_age(self, new_age):\n",
    "        self.age = new_age\n",
    "        print(f'{self.name} is now {new_age} years old.')\n",
    "        "
   ]
  },
  {
   "cell_type": "code",
   "execution_count": 23,
   "id": "86394191-ebf9-4157-8e8f-e675650d291e",
   "metadata": {},
   "outputs": [
    {
     "name": "stdout",
     "output_type": "stream",
     "text": [
      "Jhonn Doe\n"
     ]
    }
   ],
   "source": [
    "patient1 = Patient(\"Jhonn Doe\", 25,1,22.2,0,0)\n",
    "print(patient1.name)"
   ]
  },
  {
   "cell_type": "code",
   "execution_count": 24,
   "id": "a5808629-886b-4505-ba86-cb54e33650e1",
   "metadata": {},
   "outputs": [
    {
     "name": "stdout",
     "output_type": "stream",
     "text": [
      "Jhonn Doe´s estimated insurance cost is 1836.0 dollars.\n"
     ]
    }
   ],
   "source": [
    "patient1.estimated_insurance_cost()"
   ]
  },
  {
   "cell_type": "code",
   "execution_count": 25,
   "id": "c0a4027d-d936-482c-9c32-cf259fb03e85",
   "metadata": {},
   "outputs": [
    {
     "name": "stdout",
     "output_type": "stream",
     "text": [
      "Jhonn Doe is now 28 years old.\n"
     ]
    }
   ],
   "source": [
    "patient1.update_age(28)"
   ]
  },
  {
   "cell_type": "code",
   "execution_count": null,
   "id": "77ad2b2e-a550-4d61-a541-60de0c388a33",
   "metadata": {},
   "outputs": [],
   "source": []
  }
 ],
 "metadata": {
  "kernelspec": {
   "display_name": "Python 3 (ipykernel)",
   "language": "python",
   "name": "python3"
  },
  "language_info": {
   "codemirror_mode": {
    "name": "ipython",
    "version": 3
   },
   "file_extension": ".py",
   "mimetype": "text/x-python",
   "name": "python",
   "nbconvert_exporter": "python",
   "pygments_lexer": "ipython3",
   "version": "3.9.12"
  }
 },
 "nbformat": 4,
 "nbformat_minor": 5
}
